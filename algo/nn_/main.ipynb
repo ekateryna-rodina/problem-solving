{
 "metadata": {
  "language_info": {
   "codemirror_mode": {
    "name": "ipython",
    "version": 3
   },
   "file_extension": ".py",
   "mimetype": "text/x-python",
   "name": "python",
   "nbconvert_exporter": "python",
   "pygments_lexer": "ipython3",
   "version": 3
  },
  "orig_nbformat": 2,
  "kernelspec": {
   "name": "python_defaultSpec_1595532114842",
   "display_name": "Python 3.7.7 64-bit"
  }
 },
 "nbformat": 4,
 "nbformat_minor": 2,
 "cells": [
  {
   "cell_type": "code",
   "execution_count": 1,
   "metadata": {},
   "outputs": [],
   "source": [
    "import numpy as np"
   ]
  },
  {
   "cell_type": "code",
   "execution_count": 7,
   "metadata": {},
   "outputs": [],
   "source": [
    "# input layer\n",
    "inputs = [1, 2, 3, 2.5]\n",
    "# weights\n",
    "weights1 = [0.2, 0.8, -0.5, 1.0]\n",
    "weights2 = [0.5, -0.91, 0.26, -0.5]\n",
    "weights3 = [-0.26, -0.27, 0.17, 0.87]\n",
    "bias1 = 2\n",
    "bias2 = 3\n",
    "bias3 = 0.5"
   ]
  },
  {
   "cell_type": "code",
   "execution_count": 12,
   "metadata": {},
   "outputs": [],
   "source": [
    "def compute_single_neuron(inputs, weights, bias):\n",
    "    output = 0 \n",
    "    for i in range(len(inputs)):\n",
    "        output += inputs[i]*weights[i]\n",
    "    output = output + bias\n",
    "    return output"
   ]
  },
  {
   "cell_type": "code",
   "execution_count": 13,
   "metadata": {},
   "outputs": [
    {
     "output_type": "execute_result",
     "data": {
      "text/plain": "[4.8, 1.21, 2.385]"
     },
     "metadata": {},
     "execution_count": 13
    }
   ],
   "source": [
    "# each neuron has its unique set of weights for each input as well as unique bias\n",
    "weights = [weights1, weights2, weights3]\n",
    "biases = [bias1, bias2, bias3]\n",
    "result = []\n",
    "for weight, bias in zip(weights, biases):\n",
    "    output = []\n",
    "    sn_output = compute_single_neuron(inputs, weight, bias)\n",
    "    result.append(sn_output)\n",
    "result"
   ]
  },
  {
   "cell_type": "code",
   "execution_count": 16,
   "metadata": {},
   "outputs": [
    {
     "output_type": "execute_result",
     "data": {
      "text/plain": "4.8"
     },
     "metadata": {},
     "execution_count": 16
    }
   ],
   "source": [
    "import numpy as np\n",
    "\n",
    "inputs = [1, 2, 3, 2.5]\n",
    "weights = [0.2, 0.8, -0.5, 1.0]\n",
    "bias = 2\n",
    "\n",
    "output = np.dot(inputs, weights) + bias; output"
   ]
  },
  {
   "cell_type": "code",
   "execution_count": 17,
   "metadata": {},
   "outputs": [],
   "source": [
    "weights = [weights1, weights2, weights3]\n",
    "biases = [bias1, bias2, bias3]"
   ]
  },
  {
   "cell_type": "code",
   "execution_count": 18,
   "metadata": {},
   "outputs": [
    {
     "output_type": "execute_result",
     "data": {
      "text/plain": "array([4.8  , 1.21 , 2.385])"
     },
     "metadata": {},
     "execution_count": 18
    }
   ],
   "source": [
    "output = np.dot(weights, inputs) + biases; output"
   ]
  },
  {
   "cell_type": "code",
   "execution_count": 26,
   "metadata": {},
   "outputs": [
    {
     "output_type": "execute_result",
     "data": {
      "text/plain": "array([[ 4.8  ,  1.21 ,  2.385],\n       [ 8.9  , -1.81 ,  0.2  ],\n       [ 1.41 ,  1.051,  0.026]])"
     },
     "metadata": {},
     "execution_count": 26
    }
   ],
   "source": [
    "# try batch\n",
    "inputs = [[1, 2, 3, 2.5], [2.0, 5.0, -1.0, 2.0], [-1.5, 2.7, 3.3, -0.8]]\n",
    "output = np.dot(inputs, np.array(weights).T) + biases\n",
    "output\n"
   ]
  },
  {
   "cell_type": "code",
   "execution_count": 24,
   "metadata": {},
   "outputs": [],
   "source": [
    "# create second layer with 3 neurons\n",
    "weights2 = [[0.1, -0.14, 0.5], [-0.5, 0.12, -0.33], [-0.44, 0.73, 0.13]] \n",
    "biases2 = [-1, 2, 0.5]"
   ]
  },
  {
   "cell_type": "code",
   "execution_count": 27,
   "metadata": {},
   "outputs": [
    {
     "output_type": "execute_result",
     "data": {
      "text/plain": "array([[ 0.5031 , -1.04185, -0.41865],\n       [ 0.2434 , -2.7332 , -4.7113 ],\n       [-0.99314,  1.41254,  0.65021]])"
     },
     "metadata": {},
     "execution_count": 27
    }
   ],
   "source": [
    "layer1_output = np.dot(inputs, np.array(weights).T) + biases\n",
    "layer2_output = np.dot(layer1_output, np.array(weights2).T) + biases2\n",
    "layer2_output"
   ]
  },
  {
   "cell_type": "code",
   "execution_count": 28,
   "metadata": {},
   "outputs": [],
   "source": []
  },
  {
   "cell_type": "code",
   "execution_count": 41,
   "metadata": {},
   "outputs": [],
   "source": [
    "import numpy as np\n",
    "# class Neuron Network\n",
    "X = [[1, 2, 3, 2.5], [2.0, 5.0, -1.0, 2.0], [-1.5, 2.7, 3.3, -0.8]]\n",
    "class LayerDense:\n",
    "    np.random.seed(0)\n",
    "    # init the class with weight and biases \n",
    "    def __init__(self, n_inputs, n_neurons):\n",
    "        # keep weights smaller\n",
    "        self.weights = 0.10*np.random.randn(n_inputs, n_neurons)\n",
    "        self.biases = np.zeros((1, n_neurons))\n",
    "    def forward(self, inputs):\n",
    "        self.output = np.dot(inputs, self.weights) + self.biases\n"
   ]
  },
  {
   "cell_type": "code",
   "execution_count": 42,
   "metadata": {
    "tags": []
   },
   "outputs": [
    {
     "output_type": "stream",
     "name": "stdout",
     "text": "[[-0.15836989  0.03885613]\n [-0.34104313 -0.0578446 ]\n [-0.04207106  0.16528394]]\n"
    }
   ],
   "source": [
    "# create NN layer with 4 features and 10 neurons \n",
    "layer1 = LayerDense(4, 10)\n",
    "layer2 = LayerDense(10, 2)\n",
    "\n",
    "layer1.forward(X)\n",
    "layer2.forward(layer1.output)\n",
    "print(layer2.output)"
   ]
  },
  {
   "cell_type": "code",
   "execution_count": null,
   "metadata": {},
   "outputs": [],
   "source": [
    "# Activation functions \n",
    "# step function"
   ]
  },
  {
   "cell_type": "code",
   "execution_count": null,
   "metadata": {},
   "outputs": [],
   "source": []
  }
 ]
}